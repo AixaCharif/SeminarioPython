{
 "cells": [
  {
   "cell_type": "markdown",
   "id": "private-distributor",
   "metadata": {
    "slideshow": {
     "slide_type": "slide"
    }
   },
   "source": [
    "# Práctica 2"
   ]
  },
  {
   "cell_type": "markdown",
   "id": "worthy-smell",
   "metadata": {
    "slideshow": {
     "slide_type": "slide"
    }
   },
   "source": [
    " ## Ejercicio 10\n",
    " \n",
    " Un club de hockey posee las estadísticas de todxs sus jugadorxs de la última temporada jugada del torneo de \n",
    "hockey mixto. \n",
    "Poseen una lista con los nombres, otracon los goles a favor, otra con los goles evitados y la última con las \n",
    "asistencias realizadas. \n",
    "El club está por otorgar los premios de cierre de temporada y necesita:\n",
    "\n",
    "1. Generar una estructura todas las estadísticas asociadas a cada jugador o jugadora.\n",
    "\n",
    "2. Conocer el nombre y la cantidad de goles del goleador o goleadora.\n",
    "\n",
    "3. Conocer el nombre del jugador o jugadora más influyente, esto se consigue sumando goles a favor, goles evitados \n",
    "y cantidad de asistencias. La particularidad es que los goles a favor, evitados y las asistencias NO valen lo mismo \n",
    "(es un promedio ponderado):\n",
    "\n",
    "Goles a favor     vale: 1.5\n",
    "\n",
    "Goles en evitados vale: 1.25\n",
    "\n",
    "Asistencias       vale: 1\n",
    "\n",
    "4. Conocer el promedio de goles por partido del equipo en general. Dato: Se jugaron 25 partidos en la temporada.\n",
    "\n",
    "5. Conocer el promedio de goles por partido del goleador o goleadora. Dato: Se jugaron 25 partidos en la temporada.\n",
    "\n",
    "*Nota:*\n",
    "Las 4 estructuras están ordenadas de forma que los elementos en la misma posición corresponden a un mismo jugador \n",
    "o jugadora. Realizar funciones con cada ítem-"
   ]
  },
  {
   "cell_type": "markdown",
   "id": "cb6cb711",
   "metadata": {},
   "source": [
    "_______________________"
   ]
  },
  {
   "cell_type": "markdown",
   "id": "0e516c56",
   "metadata": {},
   "source": [
    "### Importo el archivo con las funciones necesarias para realizar el ejercicio y lo nombro \"func\" para utilizarlo más facilmente"
   ]
  },
  {
   "cell_type": "code",
   "execution_count": 1,
   "id": "2b81338c",
   "metadata": {},
   "outputs": [],
   "source": [
    "from Funciones import funciones as func"
   ]
  },
  {
   "cell_type": "markdown",
   "id": "c3033e0b",
   "metadata": {},
   "source": [
    "### Genero una estructura con las estadísticas asociadas a cada jugador utilizando una lista de diccionarios"
   ]
  },
  {
   "cell_type": "code",
   "execution_count": 2,
   "id": "5b72d6d2",
   "metadata": {},
   "outputs": [
    {
     "name": "stdout",
     "output_type": "stream",
     "text": [
      "[{'Nombre': 'Agustin', 'Goles a favor': 0, 'Goles evitados': 0, 'Asistencias': 0}, {'Nombre': 'Yanina', 'Goles a favor': 10, 'Goles evitados': 2, 'Asistencias': 5}, {'Nombre': 'Andrés', 'Goles a favor': 4, 'Goles evitados': 0, 'Asistencias': 1}, {'Nombre': 'Ariadna', 'Goles a favor': 0, 'Goles evitados': 0, 'Asistencias': 0}, {'Nombre': 'Bautista', 'Goles a favor': 5, 'Goles evitados': 5, 'Asistencias': 5}, {'Nombre': 'CAROLINA', 'Goles a favor': 14, 'Goles evitados': 2, 'Asistencias': 2}, {'Nombre': 'CESAR', 'Goles a favor': 0, 'Goles evitados': 0, 'Asistencias': 0}, {'Nombre': 'David', 'Goles a favor': 0, 'Goles evitados': 0, 'Asistencias': 0}, {'Nombre': 'Diego', 'Goles a favor': 7, 'Goles evitados': 1, 'Asistencias': 1}, {'Nombre': 'Dolores', 'Goles a favor': 2, 'Goles evitados': 2, 'Asistencias': 2}, {'Nombre': 'DYLAN', 'Goles a favor': 1, 'Goles evitados': 0, 'Asistencias': 1}, {'Nombre': 'ELIANA', 'Goles a favor': 1, 'Goles evitados': 5, 'Asistencias': 5}, {'Nombre': 'Emanuel', 'Goles a favor': 1, 'Goles evitados': 5, 'Asistencias': 5}, {'Nombre': 'Fabián', 'Goles a favor': 5, 'Goles evitados': 0, 'Asistencias': 0}, {'Nombre': 'Noelia', 'Goles a favor': 6, 'Goles evitados': 1, 'Asistencias': 1}, {'Nombre': 'Francsica', 'Goles a favor': 1, 'Goles evitados': 0, 'Asistencias': 0}, {'Nombre': 'FEDERICO', 'Goles a favor': 1, 'Goles evitados': 2, 'Asistencias': 2}, {'Nombre': 'Fernanda', 'Goles a favor': 2, 'Goles evitados': 3, 'Asistencias': 3}, {'Nombre': 'GONZALO', 'Goles a favor': 0, 'Goles evitados': 0, 'Asistencias': 1}, {'Nombre': 'Nancy', 'Goles a favor': 11, 'Goles evitados': 0, 'Asistencias': 0}]\n"
     ]
    }
   ],
   "source": [
    "jugadores = func.inciso_a()\n",
    "print (jugadores)"
   ]
  },
  {
   "cell_type": "markdown",
   "id": "8bbce4c4",
   "metadata": {},
   "source": [
    "### Busco el nombre y cantidad de goles del goleador o goleadora del equipo"
   ]
  },
  {
   "cell_type": "code",
   "execution_count": 3,
   "id": "7b9b6871",
   "metadata": {},
   "outputs": [
    {
     "name": "stdout",
     "output_type": "stream",
     "text": [
      "El máximo goleador/a es: CAROLINA cantidad de goles: 14\n"
     ]
    }
   ],
   "source": [
    "goleador, goals_max = func.inciso_b (jugadores)\n",
    "print (f\"El máximo goleador/a es: {goleador} cantidad de goles: {goals_max}\")"
   ]
  },
  {
   "cell_type": "markdown",
   "id": "abd48562",
   "metadata": {},
   "source": [
    "### Busco el nombre del jugador/a más influyente realizando un promedio ponderado"
   ]
  },
  {
   "cell_type": "code",
   "execution_count": 4,
   "id": "5530615e",
   "metadata": {},
   "outputs": [
    {
     "name": "stdout",
     "output_type": "stream",
     "text": [
      "CAROLINA es el jugador/a más influyente\n"
     ]
    }
   ],
   "source": [
    "nombre_influyente = func.inciso_c (jugadores)\n",
    "print (f\"{nombre_influyente} es el jugador/a más influyente\")"
   ]
  },
  {
   "cell_type": "markdown",
   "id": "fd5beaae",
   "metadata": {},
   "source": [
    "### Calculo el promedio total de goles por partido del equipo"
   ]
  },
  {
   "cell_type": "code",
   "execution_count": 5,
   "id": "06fd7a1e",
   "metadata": {},
   "outputs": [
    {
     "name": "stdout",
     "output_type": "stream",
     "text": [
      "El promedio de goles por partido es de: 2.84\n"
     ]
    }
   ],
   "source": [
    "average_goals = func.inciso_d (jugadores)\n",
    "print (f\"El promedio de goles por partido es de: {average_goals}\")"
   ]
  },
  {
   "cell_type": "markdown",
   "id": "6b22fbeb",
   "metadata": {},
   "source": [
    "### Calculo el promedio de goles por partido del máximo goleador del equipo"
   ]
  },
  {
   "cell_type": "code",
   "execution_count": 6,
   "id": "12da2014",
   "metadata": {},
   "outputs": [
    {
     "name": "stdout",
     "output_type": "stream",
     "text": [
      "El promedio de goles por partido de CAROLINA es de 0.56\n"
     ]
    }
   ],
   "source": [
    "average_goals_2 = func.inciso_e (goals_max)\n",
    "print (f\"El promedio de goles por partido de {goleador} es de {average_goals_2}\")"
   ]
  }
 ],
 "metadata": {
  "celltoolbar": "Slideshow",
  "kernelspec": {
   "display_name": "Python 3 (ipykernel)",
   "language": "python",
   "name": "python3"
  },
  "language_info": {
   "codemirror_mode": {
    "name": "ipython",
    "version": 3
   },
   "file_extension": ".py",
   "mimetype": "text/x-python",
   "name": "python",
   "nbconvert_exporter": "python",
   "pygments_lexer": "ipython3",
   "version": "3.11.2"
  }
 },
 "nbformat": 4,
 "nbformat_minor": 5
}
